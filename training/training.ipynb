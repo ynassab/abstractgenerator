{
 "cells": [
  {
   "cell_type": "code",
   "execution_count": null,
   "metadata": {
    "executionInfo": {
     "elapsed": 2479,
     "status": "ok",
     "timestamp": 1674775126452,
     "user": {
      "displayName": "Yahia Nassab",
      "userId": "08969703246693226911"
     },
     "user_tz": 300
    },
    "id": "N74Si54Pg2e9"
   },
   "outputs": [],
   "source": [
    "import training_utils"
   ]
  },
  {
   "cell_type": "code",
   "execution_count": null,
   "metadata": {
    "executionInfo": {
     "elapsed": 5,
     "status": "ok",
     "timestamp": 1674775126453,
     "user": {
      "displayName": "Yahia Nassab",
      "userId": "08969703246693226911"
     },
     "user_tz": 300
    },
    "id": "bkiJxABBhHio"
   },
   "outputs": [],
   "source": [
    "START_INDEX = 0\n",
    "STOP_INDEX  = 100_000_000\n",
    "CURRENT_ITERATION = 12\n",
    "REFERENCE_ITERATION = 11\n",
    "BEST_CHECKPOINT = 20"
   ]
  },
  {
   "cell_type": "code",
   "execution_count": null,
   "metadata": {},
   "outputs": [],
   "source": [
    "dataset, vocab_size = training_utils.generate_dataset(start_index=START_INDEX, stop_index=STOP_INDEX)\n",
    "\n",
    "# Note vocab_size is constant (109)\n",
    "model = training_utils.prepare_new_model(vocab_size)\n",
    "\n",
    "# Load best model from previous iteration\n",
    "if REFERENCE_ITERATION != -1:\n",
    "    model.load_weights(f'training_checkpoints_{REFERENCE_ITERATION}/ckpt_{BEST_CHECKPOINT}')\n",
    "\n",
    "# Manually set the checkpoint dir each time\n",
    "# Be careful to avoid overwriting past checkpoints\n",
    "checkpoint_callback = training_utils.set_new_checkpoint_callback(\n",
    "    checkpoint_dir=f'training_checkpoints_{CURRENT_ITERATION}')\n",
    "\n",
    "model.fit(dataset, epochs=training_utils.EPOCHS, callbacks=[checkpoint_callback])\n",
    "\n",
    "for _ in range(5):\n",
    "    model.generate_text()"
   ]
  }
 ],
 "metadata": {
  "accelerator": "GPU",
  "colab": {
   "authorship_tag": "ABX9TyM45YLY6/+skNPgonGxvaif",
   "mount_file_id": "1lyMqQxf-quUw2H0VpeEhVyaUz9HPdPO2",
   "provenance": []
  },
  "gpuClass": "standard",
  "kernelspec": {
   "display_name": "Python 3",
   "name": "python3"
  },
  "language_info": {
   "name": "python"
  }
 },
 "nbformat": 4,
 "nbformat_minor": 0
}
